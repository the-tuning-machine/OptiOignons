{
 "cells": [
  {
   "cell_type": "code",
   "execution_count": 1,
   "id": "3ea6585f",
   "metadata": {},
   "outputs": [
    {
     "name": "stdout",
     "output_type": "stream",
     "text": [
      "tensor([-10.0000,  -8.9474,  -7.8947,  -6.8421,  -5.7895,  -4.7368,  -3.6842,\n",
      "         -2.6316,  -1.5789,  -0.5263,   0.5263,   1.5789,   2.6316,   3.6842,\n",
      "          4.7368,   5.7895,   6.8421,   7.8947,   8.9474,  10.0000])\n"
     ]
    },
    {
     "ename": "IndexError",
     "evalue": "Dimension out of range (expected to be in range of [-1, 0], but got 1)",
     "output_type": "error",
     "traceback": [
      "\u001b[31m---------------------------------------------------------------------------\u001b[39m",
      "\u001b[31mIndexError\u001b[39m                                Traceback (most recent call last)",
      "\u001b[36mCell\u001b[39m\u001b[36m \u001b[39m\u001b[32mIn[1]\u001b[39m\u001b[32m, line 9\u001b[39m\n\u001b[32m      6\u001b[39m loss = torch.Tensor([-\u001b[32m3\u001b[39m, \u001b[32m1\u001b[39m])\n\u001b[32m      8\u001b[39m distrib = loss_net.loss_to_distrib(loss)\n\u001b[32m----> \u001b[39m\u001b[32m9\u001b[39m loss = \u001b[43mloss_net\u001b[49m\u001b[43m.\u001b[49m\u001b[43mdistrib_to_loss\u001b[49m\u001b[43m(\u001b[49m\u001b[43mdistrib\u001b[49m\u001b[43m)\u001b[49m\n\u001b[32m     10\u001b[39m \u001b[38;5;28mprint\u001b[39m(distrib)\n\u001b[32m     11\u001b[39m \u001b[38;5;28mprint\u001b[39m(loss)\n",
      "\u001b[36mFile \u001b[39m\u001b[32m~/Documents/OptiOignon/loss_net.py:14\u001b[39m, in \u001b[36mLossNetworkBase.distrib_to_loss\u001b[39m\u001b[34m(self, distribution)\u001b[39m\n\u001b[32m     13\u001b[39m \u001b[38;5;28;01mdef\u001b[39;00m\u001b[38;5;250m \u001b[39m\u001b[34mdistrib_to_loss\u001b[39m(\u001b[38;5;28mself\u001b[39m, distribution):\n\u001b[32m---> \u001b[39m\u001b[32m14\u001b[39m     \u001b[38;5;28;01mreturn\u001b[39;00m \u001b[43mtorch\u001b[49m\u001b[43m.\u001b[49m\u001b[43mmatmul\u001b[49m\u001b[43m(\u001b[49m\u001b[43mdistribution\u001b[49m\u001b[43m,\u001b[49m\u001b[43m \u001b[49m\u001b[38;5;28;43mself\u001b[39;49m\u001b[43m.\u001b[49m\u001b[43mlinspace\u001b[49m\u001b[43m)\u001b[49m\u001b[43m.\u001b[49m\u001b[43mmean\u001b[49m\u001b[43m(\u001b[49m\u001b[43mdim\u001b[49m\u001b[43m=\u001b[49m\u001b[32;43m1\u001b[39;49m\u001b[43m)\u001b[49m\n",
      "\u001b[31mIndexError\u001b[39m: Dimension out of range (expected to be in range of [-1, 0], but got 1)"
     ]
    }
   ],
   "source": [
    "from loss_net import LossNetworkBase\n",
    "import torch\n",
    "\n",
    "loss_net = LossNetworkBase()\n",
    "print(loss_net.linspace)\n",
    "loss = torch.Tensor([-3, 1])\n",
    "\n",
    "distrib = loss_net.loss_to_distrib(loss)\n",
    "loss = loss_net.distrib_to_loss(distrib)\n",
    "print(distrib)\n",
    "print(loss)"
   ]
  },
  {
   "cell_type": "code",
   "execution_count": 4,
   "id": "042bebe5",
   "metadata": {},
   "outputs": [
    {
     "data": {
      "text/plain": [
       "True"
      ]
     },
     "execution_count": 4,
     "metadata": {},
     "output_type": "execute_result"
    }
   ],
   "source": [
    "3 >= 2 or 3 < 4"
   ]
  },
  {
   "cell_type": "code",
   "execution_count": null,
   "id": "ba2f5fec",
   "metadata": {},
   "outputs": [
    {
     "name": "stdout",
     "output_type": "stream",
     "text": [
      "Lignes choisies   : [0 1 2]\n",
      "Colonnes choisies : [3 2 0]\n",
      "Coût minimal : -15\n"
     ]
    }
   ],
   "source": [
    "import numpy as np\n",
    "from scipy.optimize import linear_sum_assignment\n",
    "\n",
    "# Exemple : C est de taille n×m, n ≤ m\n",
    "# On veut associer chaque ligne i∈{0,…,n–1} à une colonne π(i)∈{0,…,m–1},\n",
    "# de façon à minimiser ∑_{i=0..n–1} C[i, π(i)].\n",
    "C = - np.array([\n",
    "    [4, 1, 3, 7],\n",
    "    [2, 0, 5, 6],\n",
    "    [3, 2, 2, 4]\n",
    "])  # ici n = 3, m = 4\n",
    "\n",
    "# linear_sum_assignment gère n≠m directement :\n",
    "row_ind, col_ind = linear_sum_assignment(C)\n",
    "# row_ind et col_ind ont la même taille : le nombre d'affectations établies\n",
    "# row_ind[k] = i et col_ind[k] = j signifiant qu'on associe i -> j.\n",
    "print(\"Lignes choisies   :\", row_ind)  # par exemple [0,1,2]\n",
    "print(\"Colonnes choisies :\", col_ind)  # par exemple [1,0,2] (exemple)\n",
    "\n",
    "# Le coût total minimal :\n",
    "cout_min = C[row_ind, col_ind].sum()\n",
    "print(\"Coût minimal :\", cout_min)\n"
   ]
  }
 ],
 "metadata": {
  "kernelspec": {
   "display_name": ".venv",
   "language": "python",
   "name": "python3"
  },
  "language_info": {
   "codemirror_mode": {
    "name": "ipython",
    "version": 3
   },
   "file_extension": ".py",
   "mimetype": "text/x-python",
   "name": "python",
   "nbconvert_exporter": "python",
   "pygments_lexer": "ipython3",
   "version": "3.11.12"
  }
 },
 "nbformat": 4,
 "nbformat_minor": 5
}
